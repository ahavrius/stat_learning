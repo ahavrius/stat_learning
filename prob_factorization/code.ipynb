{
 "cells": [
  {
   "cell_type": "markdown",
   "metadata": {},
   "source": [
    "## Гаврюшенко Анастасия. Лабораторна робота 3, Вариант 3\n",
    "\n",
    "Побудова рекомендаційної системи фильмів користувачам на основі рейтингу за допомогою методу Ймовірностної матричної факторизації. Серед перевірених К possible_k_list = [5, 10, 15, 20, 30, 40], виявилось, що К=40-найкраще"
   ]
  },
  {
   "cell_type": "code",
   "execution_count": 78,
   "metadata": {},
   "outputs": [],
   "source": [
    "import numpy as np\n",
    "import pandas as pd\n",
    "import torch\n",
    "import matplotlib.pyplot as plt"
   ]
  },
  {
   "cell_type": "code",
   "execution_count": 47,
   "metadata": {},
   "outputs": [],
   "source": [
    "orig_data = pd.read_csv(\"data/user_ratedmovies-timestamps.dat\", sep='\\t')\n",
    "data = orig_data[orig_data.columns[:-1]]"
   ]
  },
  {
   "cell_type": "code",
   "execution_count": 48,
   "metadata": {},
   "outputs": [
    {
     "data": {
      "text/html": [
       "<div>\n",
       "<style scoped>\n",
       "    .dataframe tbody tr th:only-of-type {\n",
       "        vertical-align: middle;\n",
       "    }\n",
       "\n",
       "    .dataframe tbody tr th {\n",
       "        vertical-align: top;\n",
       "    }\n",
       "\n",
       "    .dataframe thead th {\n",
       "        text-align: right;\n",
       "    }\n",
       "</style>\n",
       "<table border=\"1\" class=\"dataframe\">\n",
       "  <thead>\n",
       "    <tr style=\"text-align: right;\">\n",
       "      <th></th>\n",
       "      <th>userID</th>\n",
       "      <th>movieID</th>\n",
       "      <th>rating</th>\n",
       "    </tr>\n",
       "  </thead>\n",
       "  <tbody>\n",
       "    <tr>\n",
       "      <th>count</th>\n",
       "      <td>855598.000000</td>\n",
       "      <td>855598.000000</td>\n",
       "      <td>855598.000000</td>\n",
       "    </tr>\n",
       "    <tr>\n",
       "      <th>mean</th>\n",
       "      <td>35190.832551</td>\n",
       "      <td>8710.179402</td>\n",
       "      <td>3.437945</td>\n",
       "    </tr>\n",
       "    <tr>\n",
       "      <th>std</th>\n",
       "      <td>20385.003347</td>\n",
       "      <td>14446.852908</td>\n",
       "      <td>1.002561</td>\n",
       "    </tr>\n",
       "    <tr>\n",
       "      <th>min</th>\n",
       "      <td>75.000000</td>\n",
       "      <td>1.000000</td>\n",
       "      <td>0.500000</td>\n",
       "    </tr>\n",
       "    <tr>\n",
       "      <th>25%</th>\n",
       "      <td>18161.000000</td>\n",
       "      <td>1367.000000</td>\n",
       "      <td>3.000000</td>\n",
       "    </tr>\n",
       "    <tr>\n",
       "      <th>50%</th>\n",
       "      <td>33866.000000</td>\n",
       "      <td>3249.000000</td>\n",
       "      <td>3.500000</td>\n",
       "    </tr>\n",
       "    <tr>\n",
       "      <th>75%</th>\n",
       "      <td>52004.000000</td>\n",
       "      <td>6534.000000</td>\n",
       "      <td>4.000000</td>\n",
       "    </tr>\n",
       "    <tr>\n",
       "      <th>max</th>\n",
       "      <td>71534.000000</td>\n",
       "      <td>65133.000000</td>\n",
       "      <td>5.000000</td>\n",
       "    </tr>\n",
       "  </tbody>\n",
       "</table>\n",
       "</div>"
      ],
      "text/plain": [
       "              userID        movieID         rating\n",
       "count  855598.000000  855598.000000  855598.000000\n",
       "mean    35190.832551    8710.179402       3.437945\n",
       "std     20385.003347   14446.852908       1.002561\n",
       "min        75.000000       1.000000       0.500000\n",
       "25%     18161.000000    1367.000000       3.000000\n",
       "50%     33866.000000    3249.000000       3.500000\n",
       "75%     52004.000000    6534.000000       4.000000\n",
       "max     71534.000000   65133.000000       5.000000"
      ]
     },
     "execution_count": 48,
     "metadata": {},
     "output_type": "execute_result"
    }
   ],
   "source": [
    "data.describe()"
   ]
  },
  {
   "cell_type": "code",
   "execution_count": 49,
   "metadata": {},
   "outputs": [],
   "source": [
    "#build spread matrix\n",
    "rating_matrix = data.pivot(index='userID', columns='movieID', values='rating')\n",
    "n_users, n_movies = rating_matrix.shape"
   ]
  },
  {
   "cell_type": "code",
   "execution_count": 50,
   "metadata": {},
   "outputs": [],
   "source": [
    "#Scaling ratings to between 0 and 1\n",
    "min_rating, max_rating = data['rating'].min(), data['rating'].max()\n",
    "scaled_rating_matrix = (rating_matrix - min_rating) / (max_rating - min_rating)\n",
    "rating_matrix = scaled_rating_matrix"
   ]
  },
  {
   "cell_type": "code",
   "execution_count": 51,
   "metadata": {},
   "outputs": [],
   "source": [
    "#replace None to -1 for easier detection\n",
    "rating_matrix[rating_matrix.isnull()] = -1\n",
    "rating_matrix = torch.FloatTensor(rating_matrix.values)"
   ]
  },
  {
   "cell_type": "code",
   "execution_count": 52,
   "metadata": {},
   "outputs": [],
   "source": [
    "#implementing loss for our particular case\n",
    "class PMFLoss(torch.nn.Module):\n",
    "    def __init__(self, lam_u=0.3, lam_v=0.3):\n",
    "        super().__init__()\n",
    "        self.lam_u = lam_u\n",
    "        self.lam_v = lam_v\n",
    "    \n",
    "    def forward(self, matrix, u_features, v_features):\n",
    "        non_zero_mask = (matrix != -1).type(torch.FloatTensor)\n",
    "        predicted = torch.sigmoid(torch.mm(u_features, v_features.t()))\n",
    "        \n",
    "        diff = (matrix - predicted)**2\n",
    "        prediction_error = torch.sum(diff*non_zero_mask)\n",
    "\n",
    "        u_regularization = self.lam_u * torch.sum(u_features.norm(dim=1))\n",
    "        v_regularization = self.lam_v * torch.sum(v_features.norm(dim=1))\n",
    "        \n",
    "        return prediction_error + u_regularization + v_regularization"
   ]
  },
  {
   "cell_type": "code",
   "execution_count": 53,
   "metadata": {},
   "outputs": [],
   "source": [
    "criterion = PMFLoss()\n",
    "loss = criterion(rating_matrix, user_features, movie_features)"
   ]
  },
  {
   "cell_type": "code",
   "execution_count": 54,
   "metadata": {},
   "outputs": [],
   "source": [
    "def init_feature_matrices(n_users, n_movies, latent_vectors):\n",
    "    user_features = torch.randn(n_users, latent_vectors, requires_grad=True)\n",
    "    user_features.data.mul_(0.01)\n",
    "    movie_features = torch.randn(n_movies, latent_vectors, requires_grad=True)\n",
    "    movie_features.data.mul_(0.01)\n",
    "    return (user_features, movie_features)"
   ]
  },
  {
   "cell_type": "code",
   "execution_count": 72,
   "metadata": {},
   "outputs": [],
   "source": [
    "def training_loop(latent_vectors=20, n_epoch=201, lr=0.01, check_every=50):\n",
    "    user_features, movie_features = init_feature_matrices(n_users, n_movies, latent_vectors)\n",
    "    pmferror = PMFLoss(lam_u=0.05, lam_v=0.05)\n",
    "    optimizer = torch.optim.Adam([user_features, movie_features], lr=lr)\n",
    "    for step, epoch in enumerate(range(n_epoch)):\n",
    "        optimizer.zero_grad()\n",
    "        loss = pmferror(rating_matrix, user_features, movie_features)\n",
    "        loss.backward()\n",
    "        optimizer.step()\n",
    "        if step % check_every == 0:\n",
    "            print(f\"Step {step}, {loss:.3f}\")\n",
    "    return user_features, movie_features"
   ]
  },
  {
   "cell_type": "code",
   "execution_count": 67,
   "metadata": {},
   "outputs": [],
   "source": [
    "def check_prediction(take_first = 100):\n",
    "    user_idx = take_first\n",
    "    user_ratings = rating_matrix[user_idx, :]\n",
    "    true_ratings = user_ratings != -1\n",
    "    predictions = torch.sigmoid(torch.mm(user_features[user_idx, :].view(1, -1), movie_features.t()))\n",
    "    predicted_ratings = (predictions.squeeze()[true_ratings]*(max_rating - min_rating) + min_rating).round()\n",
    "    actual_ratings = (user_ratings[true_ratings]*(max_rating - min_rating) + min_rating).round()\n",
    "    accuracy = float(sum(predicted_ratings == actual_ratings)) / len(actual_ratings)\n",
    "    #print(\"Predictions: \\n\", predicted_ratings)\n",
    "    #print(\"Truth: \\n\", actual_ratings)\n",
    "    print(\"accuracy \", accuracy)\n",
    "    return accuracy"
   ]
  },
  {
   "cell_type": "code",
   "execution_count": 74,
   "metadata": {},
   "outputs": [
    {
     "name": "stdout",
     "output_type": "stream",
     "text": [
      "Step 0, 62478.488\n",
      "Step 50, 29480.344\n",
      "Step 100, 25254.895\n",
      "Step 150, 24090.549\n",
      "Step 200, 23354.082\n",
      "FOR  5 : accuracy  0.550979068197164\n",
      "\n",
      "\n",
      "Step 0, 62484.230\n",
      "Step 50, 27151.756\n",
      "Step 100, 23887.670\n",
      "Step 150, 21668.842\n",
      "Step 200, 20438.562\n",
      "FOR  10 : accuracy  0.5725860904794058\n",
      "\n",
      "\n",
      "Step 0, 62488.531\n",
      "Step 50, 25932.588\n",
      "Step 100, 22415.920\n",
      "Step 150, 19640.803\n",
      "Step 200, 18366.389\n",
      "FOR  15 : accuracy  0.6049966239027684\n",
      "\n",
      "\n",
      "Step 0, 62492.324\n",
      "Step 50, 25816.537\n",
      "Step 100, 21239.395\n",
      "Step 150, 18168.338\n",
      "Step 200, 16868.236\n",
      "FOR  20 : accuracy  0.6225523295070898\n",
      "\n",
      "\n",
      "Step 0, 62498.367\n",
      "Step 50, 24289.383\n",
      "Step 100, 18770.314\n",
      "Step 150, 15594.516\n",
      "Step 200, 14339.578\n",
      "FOR  30 : accuracy  0.636731937879811\n",
      "\n",
      "\n",
      "Step 0, 62503.379\n",
      "Step 50, 22489.348\n",
      "Step 100, 16563.688\n",
      "Step 150, 13628.606\n",
      "Step 200, 12415.232\n",
      "FOR  40 : accuracy  0.6704929101958136\n",
      "\n",
      "\n"
     ]
    }
   ],
   "source": [
    "possible_k_list = [5, 10, 15, 20, 30, 40]\n",
    "accuracy = []\n",
    "for latent_vectors in possible_k_list:\n",
    "    user_features, movie_features = init_feature_matrices(n_users, n_movies, latent_vectors)\n",
    "    user_features, movie_features = training_loop(latent_vectors)\n",
    "    print('FOR ', latent_vectors, end=' : ')\n",
    "    accuracy.append(check_prediction())\n",
    "    print('\\n')"
   ]
  },
  {
   "cell_type": "code",
   "execution_count": 91,
   "metadata": {},
   "outputs": [
    {
     "name": "stdout",
     "output_type": "stream",
     "text": [
      "(2113, 40)\n",
      "(10109, 40)\n"
     ]
    },
    {
     "data": {
      "image/png": "[encoded data removed]",
      "text/plain": [
       "<Figure size 432x288 with 1 Axes>"
      ]
     },
     "metadata": {
      "needs_background": "light"
     },
     "output_type": "display_data"
    },
    {
     "data": {
      "image/png": "[encoded data removed]",
      "text/plain": [
       "<Figure size 432x288 with 1 Axes>"
      ]
     },
     "metadata": {
      "needs_background": "light"
     },
     "output_type": "display_data"
    }
   ],
   "source": [
    "user_features_np = user_features.detach().numpy()\n",
    "movie_features_np = movie_features.detach().numpy()\n",
    "print(user_features_np.shape)\n",
    "print(movie_features_np.shape)\n",
    "uf_shape = user_features_np.shape\n",
    "mf_shape = movie_features_np.shape\n",
    "plt.imshow(user_features_np[:uf_shape[1],], cmap='hot', interpolation='nearest')\n",
    "plt.show()\n",
    "plt.imshow(movie_features_np[:mf_shape[1],], cmap='hot', interpolation='nearest')\n",
    "plt.show()"
   ]
  },
  {
   "cell_type": "code",
   "execution_count": 76,
   "metadata": {},
   "outputs": [
    {
     "data": {
      "text/plain": [
       "[0.550979068197164,\n",
       " 0.5725860904794058,\n",
       " 0.6049966239027684,\n",
       " 0.6225523295070898,\n",
       " 0.636731937879811,\n",
       " 0.6704929101958136]"
      ]
     },
     "execution_count": 76,
     "metadata": {},
     "output_type": "execute_result"
    }
   ],
   "source": [
    "accuracy"
   ]
  }
 ],
 "metadata": {
  "kernelspec": {
   "display_name": "Python 3",
   "language": "python",
   "name": "python3"
  },
  "language_info": {
   "codemirror_mode": {
    "name": "ipython",
    "version": 3
   },
   "file_extension": ".py",
   "mimetype": "text/x-python",
   "name": "python",
   "nbconvert_exporter": "python",
   "pygments_lexer": "ipython3",
   "version": "3.7.5"
  }
 },
 "nbformat": 4,
 "nbformat_minor": 2
}
