{
 "cells": [
  {
   "cell_type": "code",
   "execution_count": 4,
   "metadata": {},
   "outputs": [],
   "source": [
    "import pandas as pd\n",
    "import numpy as np"
   ]
  },
  {
   "cell_type": "code",
   "execution_count": 5,
   "metadata": {},
   "outputs": [],
   "source": [
    "all_dataset = pd.read_csv(\"data/arrhythmia.data\", header=None)"
   ]
  },
  {
   "cell_type": "code",
   "execution_count": 166,
   "metadata": {},
   "outputs": [],
   "source": [
    "#chosen_column = [0] + [i for i in range(3, 15)] + [all_dataset.columns[-1]]\n",
    "chosen_column = [0] + [i for i in range(3, 13)] + [14] + [all_dataset.columns[-1]]\n",
    "max_trash = 10"
   ]
  },
  {
   "cell_type": "code",
   "execution_count": 82,
   "metadata": {},
   "outputs": [],
   "source": [
    "def clean_data(data):\n",
    "    for col in data.columns:\n",
    "        trash_row = (data[col] == \"?\")\n",
    "        good_row = (data[col] != \"?\")\n",
    "        if sum(trash_row) < max_trash:\n",
    "            data = data[good_row]\n",
    "        else:\n",
    "            aver =  pd.to_numeric(data[good_row][col]).mean()\n",
    "            data.loc[trash_row, col] = aver\n",
    "        data[col] = pd.to_numeric(data[col])\n",
    "        data[col] -= data[col].min()\n",
    "    return data\n",
    "        "
   ]
  },
  {
   "cell_type": "code",
   "execution_count": null,
   "metadata": {},
   "outputs": [],
   "source": [
    "#use standart skleaarn func or use your own\n",
    "#from sklearn.model_selection import train_test_split\n",
    "#X_train, X_test, y_train, y_test = train_test_split(X, y, test_size=0.20)\n",
    "\n",
    "#also could be a good idea to do feature scaling\n",
    "#from sklearn.preprocessing import StandardScaler\n",
    "#scaler = StandardScaler()\n",
    "#scaler.fit(X_train)\n",
    "\n",
    "#X_train = scaler.transform(X_train)\n",
    "#X_test = scaler.transform(X_test)\n",
    "#see more on https://stackabuse.com/k-nearest-neighbors-algorithm-in-python-and-scikit-learn/"
   ]
  },
  {
   "cell_type": "code",
   "execution_count": 49,
   "metadata": {},
   "outputs": [],
   "source": [
    "def split_train_test(df):\n",
    "    margin = int(0.8 * len(df))\n",
    "    df = df.sample(frac=1)\n",
    "    train = df.iloc[:margin]\n",
    "    test = df.iloc[margin:]\n",
    "    return train, test"
   ]
  },
  {
   "cell_type": "code",
   "execution_count": 37,
   "metadata": {},
   "outputs": [],
   "source": [
    "def from_data_to_xy(data):\n",
    "    x = np.array(data[data.columns[:-1]], dtype=float)\n",
    "    y = np.array(data[data.columns[-1]], dtype=float)\n",
    "    return x, y"
   ]
  },
  {
   "cell_type": "markdown",
   "metadata": {},
   "source": [
    "GaussianNB = 0.658  || 0.5\n",
    "ComplementNB = 0.536 || 0.48\n",
    "MultinomialNB = 0.47  || 0.43\n",
    "\n",
    "if delete almost emply column № 13(14), results become better\n",
    "GaussianNB = 0.6832  || 0.6\n",
    "ComplementNB = 0.5226 || 0.49\n",
    "MultinomialNB = 0.5  || 0.45"
   ]
  },
  {
   "cell_type": "code",
   "execution_count": 153,
   "metadata": {},
   "outputs": [],
   "source": [
    "from sklearn import naive_bayes\n",
    "\n",
    "def bayes_classifier(which='gaussian'):\n",
    "    classifier = {\n",
    "        'gaussian' : naive_bayes.GaussianNB(),\n",
    "        'complement' : naive_bayes.ComplementNB(),\n",
    "        'multinomial' : naive_bayes.MultinomialNB()\n",
    "    }\n",
    "    clf = classifier[which]\n",
    "    return clf    "
   ]
  },
  {
   "cell_type": "code",
   "execution_count": 158,
   "metadata": {},
   "outputs": [],
   "source": [
    "def check_accuracy(data, classifier, num_iter=1000):\n",
    "    accuracy = []\n",
    "    for i in range(1000):\n",
    "        train_data, test_data = split_train_test(clean_dataset)\n",
    "        train_x, train_y = from_data_to_xy(train_data)\n",
    "        test_x, test_y = from_data_to_xy(test_data)\n",
    "        #clf = bayes_classifier(train_x, train_y, which)\n",
    "        clf = classifier.fit(train_x, train_y)\n",
    "        accuracy.append(sum(clf.predict(test_x) == test_y)  / test_y.shape[0])\n",
    "    #print(np.mean(accuracy))\n",
    "    return accuracy"
   ]
  },
  {
   "cell_type": "code",
   "execution_count": 168,
   "metadata": {},
   "outputs": [],
   "source": [
    "dataset = all_dataset[chosen_column]\n",
    "clean_dataset = clean_data(dataset)"
   ]
  },
  {
   "cell_type": "code",
   "execution_count": 170,
   "metadata": {},
   "outputs": [
    {
     "name": "stdout",
     "output_type": "stream",
     "text": [
      "0.4391573033707865\n"
     ]
    }
   ],
   "source": [
    "which = 'multinomial'\n",
    "\n",
    "ac = check_accuracy(clean_data, bayes_classifier(which), 1000)\n",
    "print(np.mean(ac))"
   ]
  },
  {
   "cell_type": "markdown",
   "metadata": {},
   "source": [
    "knn:\n",
    "5     0.5802134831460674\n",
    "6     0.5839887640449437\n",
    "7     0.5853932584269662\n",
    "8     0.5837415730337078\n",
    "9     0.5767640449438202\n",
    "10     0.5775393258426966\n",
    "11     0.569752808988764\n",
    "12     0.5705056179775281\n",
    "13     0.5678651685393259\n",
    "\n",
    "knn with all columns:\n",
    "5     0.5801235955056179\n",
    "6     0.584\n",
    "7     0.5836179775280897\n",
    "8     0.5845842696629213\n",
    "9     0.5774494382022471\n",
    "10     0.574876404494382\n",
    "11     0.5708988764044943\n",
    "12     0.570820224719101\n",
    "13     0.5677303370786517\n"
   ]
  },
  {
   "cell_type": "code",
   "execution_count": 169,
   "metadata": {},
   "outputs": [
    {
     "name": "stdout",
     "output_type": "stream",
     "text": [
      "5     0.5802134831460674\n",
      "6     0.5839887640449437\n",
      "7     0.5853932584269662\n",
      "8     0.5837415730337078\n",
      "9     0.5767640449438202\n",
      "10     0.5775393258426966\n",
      "11     0.569752808988764\n",
      "12     0.5705056179775281\n",
      "13     0.5678651685393259\n"
     ]
    }
   ],
   "source": [
    "from sklearn.neighbors import KNeighborsClassifier\n",
    "classifier = KNeighborsClassifier(n_neighbors=13)\n",
    "\n",
    "for i in range(5,14):\n",
    "    knn_classifier = KNeighborsClassifier(n_neighbors=i)\n",
    "    ac = check_accuracy(clean_data, knn_classifier, 1000)\n",
    "    print(i, \"   \", np.mean(ac))"
   ]
  },
  {
   "cell_type": "code",
   "execution_count": 148,
   "metadata": {},
   "outputs": [
    {
     "name": "stdout",
     "output_type": "stream",
     "text": [
      "Counter({0.0: 243, 9.0: 50, 1.0: 39, 5.0: 25, 15.0: 21, 2.0: 15, 3.0: 14, 4.0: 13, 8.0: 9, 14.0: 5, 13.0: 4, 7.0: 2, 6.0: 2})\n",
      "[ 0.  1.  2.  3.  4.  5.  6.  7.  8.  9. 13. 14. 15.]\n"
     ]
    }
   ],
   "source": [
    "import collections\n",
    "\n",
    "_, y_ = from_data_to_xy(clean_dataset)\n",
    "\n",
    "print(collections.Counter(y))\n",
    "\n",
    "print(np.unique(y))"
   ]
  },
  {
   "cell_type": "code",
   "execution_count": null,
   "metadata": {},
   "outputs": [],
   "source": []
  }
 ],
 "metadata": {
  "kernelspec": {
   "display_name": "Python 3",
   "language": "python",
   "name": "python3"
  },
  "language_info": {
   "codemirror_mode": {
    "name": "ipython",
    "version": 3
   },
   "file_extension": ".py",
   "mimetype": "text/x-python",
   "name": "python",
   "nbconvert_exporter": "python",
   "pygments_lexer": "ipython3",
   "version": "3.6.7"
  }
 },
 "nbformat": 4,
 "nbformat_minor": 2
}
