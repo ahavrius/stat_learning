{
 "cells": [
  {
   "cell_type": "code",
   "execution_count": 2,
   "metadata": {},
   "outputs": [],
   "source": [
    "import pandas as pd\n",
    "import numpy as np"
   ]
  },
  {
   "cell_type": "code",
   "execution_count": 67,
   "metadata": {},
   "outputs": [],
   "source": [
    "all_dataset = pd.read_csv(\"data/arrhythmia.data\", header=None)"
   ]
  },
  {
   "cell_type": "code",
   "execution_count": 68,
   "metadata": {},
   "outputs": [],
   "source": [
    "chosen_column = [0] + [i for i in range(3, 15)] + [all_dataset.columns[-1]]\n",
    "max_trash = 10"
   ]
  },
  {
   "cell_type": "code",
   "execution_count": 70,
   "metadata": {},
   "outputs": [
    {
     "name": "stdout",
     "output_type": "stream",
     "text": [
      "     0    3    4    5    6    7    8    9    10   11   12   13  14   279\n",
      "0     75   80   91  193  371  174  121  -16   13   64   -2    ?  63    8\n",
      "1     56   64   81  174  401  149   39   25   37  -17   31    ?  53    6\n",
      "2     54   95  138  163  386  185  102   96   34   70   66   23  75   10\n",
      "3     55   94  100  202  380  179  143   28   11   -5   20    ?  71    1\n",
      "4     75   80   88  181  360  177  103  -16   13   61    3    ?   ?    7\n",
      "..   ...  ...  ...  ...  ...  ...  ...  ...  ...  ...  ...  ...  ..  ...\n",
      "447   53   70   80  199  382  154  117  -37    4   40  -27    ?  63    1\n",
      "448   37   85  100  137  361  201   73   86   66   52   79    ?  73   10\n",
      "449   36   68  108  176  365  194  116  -85  -19  -61  -70   84  84    2\n",
      "450   32   55   93  106  386  218   63   54   29  -22   43  103  80    1\n",
      "451   78   70   79  127  364  138   78   28   79   52   47    ?  75    1\n",
      "\n",
      "[452 rows x 14 columns]\n"
     ]
    }
   ],
   "source": [
    "dataset = all_dataset[chosen_column]\n",
    "print(dataset)"
   ]
  },
  {
   "cell_type": "code",
   "execution_count": 128,
   "metadata": {},
   "outputs": [],
   "source": [
    "def clean_data(data):\n",
    "    for col in data.columns:\n",
    "        trash_row = (data[col] == '?')\n",
    "        good_row = (data[col] != '?')\n",
    "        if sum(trash_row) < max_trash:\n",
    "            data = data[good_row]\n",
    "        else:\n",
    "            aver =  pd.to_numeric(data[good_row][col]).mean()\n",
    "            data.loc[trash_row, col] = aver\n",
    "        data[col] = pd.to_numeric(data[col])\n",
    "        data[col] -= 2*data[col].min()\n",
    "    return data\n",
    "        "
   ]
  },
  {
   "cell_type": "code",
   "execution_count": 99,
   "metadata": {},
   "outputs": [],
   "source": [
    "def split_train_test(df):\n",
    "    margin = int(0.8 * len(df))\n",
    "    print(margin)\n",
    "    df = df.sample(frac=1)\n",
    "    train = df.iloc[:margin]\n",
    "    test = df.iloc[margin:]\n",
    "    return train, test"
   ]
  },
  {
   "cell_type": "code",
   "execution_count": 136,
   "metadata": {},
   "outputs": [],
   "source": [
    "def from_data_to_xy(data):\n",
    "    x = np.array(data[data.columns[:-1]], dtype=float)\n",
    "    y = np.array(data[data.columns[-1]], dtype=float)\n",
    "    return x, y"
   ]
  },
  {
   "cell_type": "code",
   "execution_count": 122,
   "metadata": {},
   "outputs": [
    {
     "name": "stdout",
     "output_type": "stream",
     "text": [
      "(0,)\n"
     ]
    }
   ],
   "source": [
    "clean_dataset = clean_data(dataset)\n",
    "x = np.array(clean_dataset[clean_dataset.columns[:-1]], dtype=float)\n",
    "y = np.array(clean_dataset[clean_dataset.columns[-1]], dtype=float)\n",
    "print(x[x<0].shape)"
   ]
  },
  {
   "cell_type": "markdown",
   "metadata": {},
   "source": [
    "GaussianNB = 0.658\n",
    "ComplementNB = 0.536\n",
    "MultinomialNB = 0.47"
   ]
  },
  {
   "cell_type": "code",
   "execution_count": 135,
   "metadata": {},
   "outputs": [
    {
     "name": "stdout",
     "output_type": "stream",
     "text": [
      "0.5361990950226244\n"
     ]
    }
   ],
   "source": [
    "#from sklearn.naive_bayes import GaussianNB\n",
    "#clf = GaussianNB()\n",
    "#from sklearn.naive_bayes import MultinomialNB\n",
    "#clf = MultinomialNB()\n",
    "from sklearn.naive_bayes import ComplementNB\n",
    "clf = ComplementNB()\n",
    "clf.fit(x, y)\n",
    "\n",
    "print(sum(clf.predict(x) == y)  / y.shape[0])"
   ]
  },
  {
   "cell_type": "code",
   "execution_count": null,
   "metadata": {},
   "outputs": [],
   "source": []
  }
 ],
 "metadata": {
  "kernelspec": {
   "display_name": "venv",
   "language": "python",
   "name": "venv"
  },
  "language_info": {
   "codemirror_mode": {
    "name": "ipython",
    "version": 3
   },
   "file_extension": ".py",
   "mimetype": "text/x-python",
   "name": "python",
   "nbconvert_exporter": "python",
   "pygments_lexer": "ipython3",
   "version": "3.6.8"
  }
 },
 "nbformat": 4,
 "nbformat_minor": 2
}
