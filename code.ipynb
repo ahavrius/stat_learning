{
 "cells": [
  {
   "cell_type": "code",
   "execution_count": 1,
   "metadata": {},
   "outputs": [],
   "source": [
    "import pandas as pd\n",
    "import numpy as np\n",
    "import matplotlib.pyplot as plt\n",
    "\n",
    "from sklearn.tree import DecisionTreeClassifier, export_graphviz\n",
    "from sklearn.ensemble import GradientBoostingClassifier\n",
    "from sklearn.ensemble import RandomForestClassifier\n",
    "from sklearn.model_selection import GridSearchCV\n",
    "\n",
    "import graphviz\n",
    "import pydotplus\n",
    "import io\n",
    "from scipy import misc"
   ]
  },
  {
   "cell_type": "code",
   "execution_count": 2,
   "metadata": {},
   "outputs": [],
   "source": [
    "all_dataset = pd.read_csv(\"data/arrhythmia.data\", header=None)"
   ]
  },
  {
   "cell_type": "code",
   "execution_count": 3,
   "metadata": {},
   "outputs": [],
   "source": [
    "chosen_column = [0] + [i for i in range(3, 15)] + [all_dataset.columns[-1]]\n",
    "max_trash = 20"
   ]
  },
  {
   "cell_type": "code",
   "execution_count": 4,
   "metadata": {},
   "outputs": [],
   "source": [
    "def clean_data(data):\n",
    "    for col in data.columns:\n",
    "        trash_row = (data[col] == \"?\")\n",
    "        good_row = (data[col] != \"?\")\n",
    "        if sum(trash_row) < max_trash:\n",
    "            data = data[good_row]\n",
    "        else:\n",
    "            aver =  pd.to_numeric(data[good_row][col]).mean()\n",
    "            data.loc[trash_row, col] = aver\n",
    "        data[col] = pd.to_numeric(data[col])\n",
    "        data[col] -= data[col].min()\n",
    "    return data"
   ]
  },
  {
   "cell_type": "code",
   "execution_count": 5,
   "metadata": {},
   "outputs": [],
   "source": [
    "def split_train_test(df):\n",
    "    margin = int(0.8 * len(df))\n",
    "    df = df.sample(frac=1)\n",
    "    train = df.iloc[:margin]\n",
    "    test = df.iloc[margin:]\n",
    "    return train, test"
   ]
  },
  {
   "cell_type": "code",
   "execution_count": 6,
   "metadata": {},
   "outputs": [],
   "source": [
    "def from_data_to_xy(data):\n",
    "    x = np.array(data[data.columns[:-1]], dtype=float)\n",
    "    y = np.array(data[data.columns[-1]], dtype=float)\n",
    "    return x, y"
   ]
  },
  {
   "cell_type": "code",
   "execution_count": 7,
   "metadata": {},
   "outputs": [],
   "source": [
    "def clf_acc(data, clf):\n",
    "    train_data, test_data = split_train_test(data)\n",
    "    train_x, train_y = from_data_to_xy(train_data)\n",
    "    test_x, test_y = from_data_to_xy(test_data)\n",
    "    clf_fit = clf.fit(train_x, train_y)\n",
    "    y_pred = clf_fit.predict(test_x)\n",
    "    acc = sum(y_pred == test_y)  / test_y.shape[0]\n",
    "    return acc"
   ]
  },
  {
   "cell_type": "code",
   "execution_count": 8,
   "metadata": {},
   "outputs": [
    {
     "name": "stderr",
     "output_type": "stream",
     "text": [
      "/home/ahavriushen/Desktop/uni_proj/stat_learning/venv/lib/python3.6/site-packages/pandas/core/ops/__init__.py:1115: FutureWarning: elementwise comparison failed; returning scalar instead, but in the future will perform elementwise comparison\n",
      "  result = method(y)\n"
     ]
    }
   ],
   "source": [
    "dataset = all_dataset[chosen_column]\n",
    "clean_dataset = clean_data(dataset)"
   ]
  },
  {
   "cell_type": "code",
   "execution_count": 9,
   "metadata": {},
   "outputs": [],
   "source": [
    "def cv_accuracy(data, classifier, num_iter=100):\n",
    "    accuracy = []\n",
    "    for i in range(num_iter):\n",
    "        acc = clf_acc(data, classifier)\n",
    "        accuracy.append(acc)\n",
    "    return accuracy"
   ]
  },
  {
   "cell_type": "code",
   "execution_count": 13,
   "metadata": {},
   "outputs": [],
   "source": [
    "def show_tree(tree, features, path):\n",
    "    f = io.StringIO()\n",
    "    export_graphviz(tree, out_file=f, feature_names=features)\n",
    "    pydotplus.graph_from_dot_data(f.getvalue()).write_png(path)\n",
    "    #img = misc.imread(path)\n",
    "    img = plt.imread(path)\n",
    "    plt.rcParams[\"figure.figsize\"] = (20, 20)\n",
    "    plt.imshow(img)"
   ]
  },
  {
   "cell_type": "code",
   "execution_count": null,
   "metadata": {},
   "outputs": [],
   "source": [
    "## accuracy = 0.53 for full tree\n",
    "## accuracy with min_samples_split=10 => 0.56\n",
    "## accuracy with min_samples_split=10 => 0.59\n",
    "##({'max_depth': 6, 'min_samples_split': 24}, 0.6175637393767706, 0.6741573033707865)\n",
    "##({'max_depth': 7, 'min_samples_split': 18}, 0.6005665722379604, 0.6404494382022472)"
   ]
  },
  {
   "cell_type": "code",
   "execution_count": 31,
   "metadata": {},
   "outputs": [],
   "source": [
    "def grid_search(data_, clf, param, scoring):\n",
    "    train_data, test_data = split_train_test(data_)\n",
    "    train_x, train_y = from_data_to_xy(train_data)\n",
    "    test_x, test_y = from_data_to_xy(test_data)\n",
    "    grid_clf = GridSearchCV(clf, param, cv=10, scoring=scoring, n_jobs=-1)\n",
    "    grid_clf_fit = grid_clf.fit(train_x, train_y)\n",
    "    model = grid_clf_fit.best_estimator_\n",
    "    model_fit = model.fit(train_x, train_y)\n",
    "    y_pred = model_fit.predict(test_x)\n",
    "    acc = sum(y_pred == test_y)  / test_y.shape[0]\n",
    "    return grid_clf_fit.best_params_, grid_clf_fit.best_score_, acc, model_fit"
   ]
  },
  {
   "cell_type": "code",
   "execution_count": 28,
   "metadata": {},
   "outputs": [
    {
     "name": "stderr",
     "output_type": "stream",
     "text": [
      "/home/ahavriushen/Desktop/uni_proj/stat_learning/venv/lib/python3.6/site-packages/sklearn/model_selection/_split.py:657: Warning: The least populated class in y has only 1 members, which is too few. The minimum number of members in any class cannot be less than n_splits=10.\n",
      "  % (min_groups, self.n_splits)), Warning)\n"
     ]
    },
    {
     "name": "stdout",
     "output_type": "stream",
     "text": [
      "({'max_depth': 5, 'min_samples_split': 26}, 0.6458923512747875, 0.5617977528089888)\n"
     ]
    },
    {
     "name": "stderr",
     "output_type": "stream",
     "text": [
      "/home/ahavriushen/Desktop/uni_proj/stat_learning/venv/lib/python3.6/site-packages/sklearn/model_selection/_search.py:814: DeprecationWarning: The default of the `iid` parameter will change from True to False in version 0.22 and will be removed in 0.24. This will change numeric results when test-set sizes are unequal.\n",
      "  DeprecationWarning)\n"
     ]
    }
   ],
   "source": [
    "param_dt={'min_samples_split': range(2, 80, 2),\n",
    "          'max_depth': range(1, 40, 2)}\n",
    "clf_dt = DecisionTreeClassifier()\n",
    "answer_dt = grid_search(clean_dataset, clf_dt, param_dt, 'accuracy')\n",
    "print(answer_dt[:-1])\n",
    "#show_tree(answer_dt[-1], chosen_column[:-1], \"dec_tree_02.png\")"
   ]
  },
  {
   "cell_type": "code",
   "execution_count": null,
   "metadata": {},
   "outputs": [],
   "source": [
    "##best boosting ({'learning_rate': 0.15, 'max_depth': 3}, 0.6260623229461756, 0.5955056179775281)  where n_estimators=20\n",
    "##({'learning_rate': 0.1, 'max_depth': 3}, 0.6147308781869688, 0.651685393258427) for n_estimators=15, min_samples_split=5\n",
    "#({'learning_rate': 0.1, 'max_depth': 3, 'min_samples_split': 6, 'n_estimators': 20}, 0.6118980169971672, 0.6629213483146067)"
   ]
  },
  {
   "cell_type": "code",
   "execution_count": 20,
   "metadata": {},
   "outputs": [
    {
     "name": "stderr",
     "output_type": "stream",
     "text": [
      "/home/ahavriushen/Desktop/uni_proj/stat_learning/venv/lib/python3.6/site-packages/sklearn/model_selection/_split.py:657: Warning: The least populated class in y has only 2 members, which is too few. The minimum number of members in any class cannot be less than n_splits=10.\n",
      "  % (min_groups, self.n_splits)), Warning)\n",
      "/home/ahavriushen/Desktop/uni_proj/stat_learning/venv/lib/python3.6/site-packages/sklearn/model_selection/_search.py:814: DeprecationWarning: The default of the `iid` parameter will change from True to False in version 0.22 and will be removed in 0.24. This will change numeric results when test-set sizes are unequal.\n",
      "  DeprecationWarning)\n"
     ]
    },
    {
     "name": "stdout",
     "output_type": "stream",
     "text": [
      "({'learning_rate': 0.1, 'max_depth': 3, 'min_samples_split': 6, 'n_estimators': 20}, 0.6118980169971672, 0.6629213483146067)\n"
     ]
    }
   ],
   "source": [
    "clf_boost = GradientBoostingClassifier(loss='deviance', min_samples_split=6, n_estimators=20)\n",
    "param_boost = {\"learning_rate\": [0.01, 0.025, 0.05, 0.075, 0.1, 0.15, 0.2],\n",
    "              \"max_depth\": range(3, 12, 2)}\n",
    "              #\"n_estimators\": [10, 15, 20]\n",
    "              #\"min_samples_split\": [2, 4, 6, 8, 10]\n",
    "answer_boost = grid_search(clean_dataset, clf_boost, param_boost, 'accuracy')\n",
    "print(answer_boost[:-1])"
   ]
  },
  {
   "cell_type": "code",
   "execution_count": null,
   "metadata": {},
   "outputs": [],
   "source": [
    "##({'criterion': 'entropy', 'max_depth': 8, 'max_features': 'sqrt', 'n_estimators': 50}, 0.6713881019830028, 0.5617977)\n",
    "##({'criterion': 'gini', 'max_depth': 12, 'max_features': 'log2', 'n_estimators': 75}, 0.6685552407932012, 0.6404494382022472)\n",
    "##({'criterion': 'gini', 'max_depth': 8, 'max_features': 'auto', 'n_estimators': 75}, 0.6628895184135978, 0.6629213483146067)\n",
    "##({'criterion': 'gini', 'max_depth': 8, 'max_features': 'log2', 'n_estimators': 30}, 0.6543909348441926, 0.6292134831460674)\n",
    "##({'criterion': 'gini', 'max_depth': 10, 'max_features': 'auto', 'n_estimators': 80}, 0.6515580736543909, 0.6741573033707865)"
   ]
  },
  {
   "cell_type": "code",
   "execution_count": 37,
   "metadata": {},
   "outputs": [
    {
     "name": "stderr",
     "output_type": "stream",
     "text": [
      "/home/ahavriushen/Desktop/uni_proj/stat_learning/venv/lib/python3.6/site-packages/sklearn/model_selection/_split.py:657: Warning: The least populated class in y has only 2 members, which is too few. The minimum number of members in any class cannot be less than n_splits=10.\n",
      "  % (min_groups, self.n_splits)), Warning)\n",
      "/home/ahavriushen/Desktop/uni_proj/stat_learning/venv/lib/python3.6/site-packages/sklearn/model_selection/_search.py:814: DeprecationWarning: The default of the `iid` parameter will change from True to False in version 0.22 and will be removed in 0.24. This will change numeric results when test-set sizes are unequal.\n",
      "  DeprecationWarning)\n"
     ]
    },
    {
     "name": "stdout",
     "output_type": "stream",
     "text": [
      "({'criterion': 'gini', 'max_depth': 10, 'max_features': 'auto', 'n_estimators': 80}, 0.6515580736543909, 0.6741573033707865)\n"
     ]
    }
   ],
   "source": [
    "clf_rf = RandomForestClassifier(bootstrap=True, criterion='gini')\n",
    "param_rf = {\n",
    "    'n_estimators': [30, 50, 70, 80, 100],\n",
    "    'max_features': ['auto', 'sqrt', 'log2'],\n",
    "    'max_depth': range(2, 20, 2)\n",
    "}\n",
    "answer_rf = grid_search(clean_dataset, clf_rf, param_rf, 'accuracy')\n",
    "print(answer_rf[:-1])"
   ]
  },
  {
   "cell_type": "code",
   "execution_count": null,
   "metadata": {},
   "outputs": [],
   "source": []
  },
  {
   "cell_type": "code",
   "execution_count": null,
   "metadata": {},
   "outputs": [],
   "source": [
    "1. Вирішуюче дерево\n",
    "2. Бустінг \n",
    "3. Випадковий ліс\n",
    "\n",
    "Оберіть два найбільш значущих регресори (будь-яким методом) та намалюйте області класифікації в R^2.\n",
    "\n",
    "Для кожного методу проведіть підбір параметрів для потреби (для цього можна скористатися модулем sklearn.model_selection.GridSearchCV).\n"
   ]
  }
 ],
 "metadata": {
  "kernelspec": {
   "display_name": "venv",
   "language": "python",
   "name": "venv"
  },
  "language_info": {
   "codemirror_mode": {
    "name": "ipython",
    "version": 3
   },
   "file_extension": ".py",
   "mimetype": "text/x-python",
   "name": "python",
   "nbconvert_exporter": "python",
   "pygments_lexer": "ipython3",
   "version": "3.6.8"
  }
 },
 "nbformat": 4,
 "nbformat_minor": 2
}
