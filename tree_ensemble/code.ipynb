{
 "cells": [
  {
   "cell_type": "code",
   "execution_count": 26,
   "metadata": {},
   "outputs": [],
   "source": [
    "import pandas as pd\n",
    "import numpy as np\n",
    "import matplotlib.pyplot as plt\n",
    "\n",
    "from sklearn import tree\n",
    "from sklearn.ensemble import GradientBoostingClassifier\n",
    "from sklearn.ensemble import RandomForestClassifier\n",
    "from sklearn.model_selection import GridSearchCV"
   ]
  },
  {
   "cell_type": "code",
   "execution_count": 2,
   "metadata": {},
   "outputs": [],
   "source": [
    "all_dataset = pd.read_csv(\"data/arrhythmia.data\", header=None)"
   ]
  },
  {
   "cell_type": "code",
   "execution_count": 3,
   "metadata": {},
   "outputs": [],
   "source": [
    "chosen_column = [0] + [i for i in range(3, 15)] + [all_dataset.columns[-1]]\n",
    "#chosen_column = [0] + [i for i in range(3, 13)] + [14] + [all_dataset.columns[-1]]\n",
    "max_trash = 20"
   ]
  },
  {
   "cell_type": "code",
   "execution_count": 5,
   "metadata": {},
   "outputs": [],
   "source": [
    "def clean_data(data):\n",
    "    for col in data.columns:\n",
    "        trash_row = (data[col] == \"?\")\n",
    "        good_row = (data[col] != \"?\")\n",
    "        if sum(trash_row) < max_trash:\n",
    "            data = data[good_row]\n",
    "        else:\n",
    "            aver =  pd.to_numeric(data[good_row][col]).mean()\n",
    "            data.loc[trash_row, col] = aver\n",
    "        data[col] = pd.to_numeric(data[col])\n",
    "        data[col] -= data[col].min()\n",
    "    return data"
   ]
  },
  {
   "cell_type": "code",
   "execution_count": 6,
   "metadata": {},
   "outputs": [],
   "source": [
    "def split_train_test(df):\n",
    "    margin = int(0.8 * len(df))\n",
    "    df = df.sample(frac=1)\n",
    "    train = df.iloc[:margin]\n",
    "    test = df.iloc[margin:]\n",
    "    return train, test"
   ]
  },
  {
   "cell_type": "code",
   "execution_count": 7,
   "metadata": {},
   "outputs": [],
   "source": [
    "def from_data_to_xy(data):\n",
    "    x = np.array(data[data.columns[:-1]], dtype=float)\n",
    "    y = np.array(data[data.columns[-1]], dtype=float)\n",
    "    return x, y"
   ]
  },
  {
   "cell_type": "code",
   "execution_count": 8,
   "metadata": {},
   "outputs": [
    {
     "name": "stderr",
     "output_type": "stream",
     "text": [
      "/home/asta/.local/lib/python3.6/site-packages/pandas/core/ops.py:1649: FutureWarning: elementwise comparison failed; returning scalar instead, but in the future will perform elementwise comparison\n",
      "  result = method(y)\n"
     ]
    }
   ],
   "source": [
    "dataset = all_dataset[chosen_column]\n",
    "clean_dataset = clean_data(dataset)"
   ]
  },
  {
   "cell_type": "code",
   "execution_count": 17,
   "metadata": {},
   "outputs": [],
   "source": [
    "def check_accuracy(data, classifier, num_iter=100, d_to_xy=from_data_to_xy):\n",
    "#def check_accuracy(data, classifier, num_iter=1000, d_to_xy=from_data_to_xy):\n",
    "    accuracy = []\n",
    "    for i in range(num_iter):\n",
    "        train_data, test_data = split_train_test(data)\n",
    "        train_x, train_y = d_to_xy(train_data)\n",
    "        test_x, test_y = d_to_xy(test_data)\n",
    "        clf = classifier.fit(train_x, train_y)\n",
    "        accuracy.append(sum(clf.predict(test_x) == test_y)  / test_y.shape[0])\n",
    "    return accuracy"
   ]
  },
  {
   "cell_type": "code",
   "execution_count": 18,
   "metadata": {},
   "outputs": [
    {
     "name": "stdout",
     "output_type": "stream",
     "text": [
      "0.5238202247191012\n"
     ]
    }
   ],
   "source": [
    "clf = tree.DecisionTreeClassifier()\n",
    "ac = check_accuracy(clean_dataset, clf)\n",
    "print(np.mean(ac))"
   ]
  },
  {
   "cell_type": "code",
   "execution_count": 27,
   "metadata": {},
   "outputs": [
    {
     "data": {
      "image/png": "[encoded data removed]",
      "text/plain": [
       "<Figure size 432x288 with 1 Axes>"
      ]
     },
     "metadata": {
      "needs_background": "light"
     },
     "output_type": "display_data"
    }
   ],
   "source": [
    "train_data, test_data = split_train_test(clean_dataset)\n",
    "train_x, train_y = from_data_to_xy(train_data)\n",
    "test_x, test_y = from_data_to_xy(test_data)\n",
    "clf = tree.DecisionTreeClassifier()\n",
    "clf_fit = clf.fit(train_x, train_y)\n",
    "tree_plot = tree.plot_tree(clf_fit, max_depth=10) "
   ]
  },
  {
   "cell_type": "code",
   "execution_count": 33,
   "metadata": {},
   "outputs": [
    {
     "name": "stdout",
     "output_type": "stream",
     "text": [
      "0.552808988764045\n"
     ]
    }
   ],
   "source": [
    "clf = GradientBoostingClassifier(n_estimators=100, learning_rate=1e-3,\n",
    "    max_depth=10, random_state=10)\n",
    "ac = check_accuracy(clean_dataset, clf, num_iter=10)\n",
    "print(np.mean(ac))"
   ]
  },
  {
   "cell_type": "code",
   "execution_count": 30,
   "metadata": {},
   "outputs": [
    {
     "name": "stdout",
     "output_type": "stream",
     "text": [
      "0.5617977528089888\n"
     ]
    }
   ],
   "source": [
    "clf = RandomForestClassifier(n_estimators=100, max_depth=2,\n",
    "                             random_state=10)\n",
    "ac = check_accuracy(clean_dataset, clf, num_iter=10)\n",
    "print(np.mean(ac))"
   ]
  },
  {
   "cell_type": "code",
   "execution_count": null,
   "metadata": {},
   "outputs": [],
   "source": [
    "#1. Вирішуюче дерево\n",
    "2. Бустінг \n",
    "3. Випадковий ліс\n",
    "\n",
    "Оберіть два найбільш значущих регресори (будь-яким методом) та намалюйте області класифікації в R^2.\n",
    "\n",
    "Для кожного методу проведіть підбір параметрів для потреби (для цього можна скористатися модулем sklearn.model_selection.GridSearchCV).\n"
   ]
  }
 ],
 "metadata": {
  "kernelspec": {
   "display_name": "Python 3",
   "language": "python",
   "name": "python3"
  },
  "language_info": {
   "codemirror_mode": {
    "name": "ipython",
    "version": 3
   },
   "file_extension": ".py",
   "mimetype": "text/x-python",
   "name": "python",
   "nbconvert_exporter": "python",
   "pygments_lexer": "ipython3",
   "version": "3.6.7"
  }
 },
 "nbformat": 4,
 "nbformat_minor": 2
}
